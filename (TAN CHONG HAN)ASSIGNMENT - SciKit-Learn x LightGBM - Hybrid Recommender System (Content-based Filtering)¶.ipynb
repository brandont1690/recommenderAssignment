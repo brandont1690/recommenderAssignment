{
 "cells": [
  {
   "cell_type": "markdown",
   "metadata": {
    "colab_type": "text",
    "id": "NKVG2QbjE4Uv"
   },
   "source": [
    "# SciKit-Learn x LightGBM - Hybrid Recommender System (Content-based Filtering)"
   ]
  },
  {
   "cell_type": "markdown",
   "metadata": {
    "colab_type": "text",
    "id": "5VuCrJd0E4Uw"
   },
   "source": [
    "Content-Based Recommendations systems are the systems that look for similarity before recommending something. To understand how similarity between different products is computed, there are different techniques or similarity measures that are used to compute the similarity, such as Euclidean distance and cosine similarity. This system uses the metadata item name to make these recommendations, this decision is made as items sold on e-commerce platforms are usually named in a way that includes the product name, brand name, features, and simple descriptions in order to stand out to users and be in favor of the search engines.\n",
    "\n",
    "In this assignment, I went through the steps of building a hybrid model of content-based recommender systems using the Lazada Indonesia Data set that is publicly available on Kaggle. To achieve this, I utilized computed values of pairwise cosine similarity scores from scikit-learn library, and regression algorithms by LightGBM for all products sold on Lazada Indonesia based on their product name and predicted ratings, and recommend relevant products based on the combination of the cosine similarity score and the predicted ratings value.\n",
    "\n",
    "(full dataset can be downloaded here) https://www.kaggle.com/datasets/grikomsn/lazada-indonesian-reviews?select=20191002-items.csv"
   ]
  },
  {
   "cell_type": "code",
   "execution_count": 1,
   "metadata": {},
   "outputs": [
    {
     "name": "stdout",
     "output_type": "stream",
     "text": [
      "Requirement already satisfied: pyspellchecker in c:\\users\\brandon\\anaconda3\\lib\\site-packages (0.7.2)\n",
      "Note: you may need to restart the kernel to use updated packages.\n"
     ]
    }
   ],
   "source": [
    "pip install pyspellchecker"
   ]
  },
  {
   "cell_type": "code",
   "execution_count": 2,
   "metadata": {},
   "outputs": [
    {
     "name": "stdout",
     "output_type": "stream",
     "text": [
      "Requirement already satisfied: lightgbm in c:\\users\\brandon\\anaconda3\\lib\\site-packages (4.1.0)\n",
      "Requirement already satisfied: numpy in c:\\users\\brandon\\anaconda3\\lib\\site-packages (from lightgbm) (1.23.5)\n",
      "Requirement already satisfied: scipy in c:\\users\\brandon\\anaconda3\\lib\\site-packages (from lightgbm) (1.10.0)\n",
      "Note: you may need to restart the kernel to use updated packages.\n"
     ]
    }
   ],
   "source": [
    "pip install lightgbm"
   ]
  },
  {
   "cell_type": "code",
   "execution_count": null,
   "metadata": {},
   "outputs": [],
   "source": [
    "pip install spacy"
   ]
  },
  {
   "cell_type": "code",
   "execution_count": null,
   "metadata": {},
   "outputs": [],
   "source": [
    "pip install streamlit"
   ]
  },
  {
   "cell_type": "markdown",
   "metadata": {
    "colab_type": "text",
    "id": "L9e4rpeNE4Uw"
   },
   "source": [
    "## Section 1 Data Preparation"
   ]
  },
  {
   "cell_type": "markdown",
   "metadata": {
    "colab_type": "text",
    "id": "7aUhEQj7E4Ux"
   },
   "source": [
    "\"20191002-items.csv\" contains information on 10,942 products being sold in the Lazada Indonesia dataset. Features include itemId, category, name, brandName, url, price, averageRating, totalReviews, retrievedDate."
   ]
  },
  {
   "cell_type": "markdown",
   "metadata": {
    "colab_type": "text",
    "id": "jtyIA0yHE4Ux"
   },
   "source": [
    "Let's load the products metadata dataset into a pandas DataFrame:"
   ]
  },
  {
   "cell_type": "code",
   "execution_count": 3,
   "metadata": {
    "colab": {
     "base_uri": "https://localhost:8080/",
     "height": 455
    },
    "colab_type": "code",
    "executionInfo": {
     "elapsed": 1624,
     "status": "error",
     "timestamp": 1598199323921,
     "user": {
      "displayName": "CHI WEE TAN",
      "photoUrl": "https://lh3.googleusercontent.com/a-/AOh14GijHp2AsEs6M_zt6H3EmAOa-hTcKiWeIJFFhu_Y=s64",
      "userId": "13878856117499750324"
     },
     "user_tz": -480
    },
    "id": "RAeC25MgE4Uz",
    "outputId": "8c5dfe22-15ed-4df0-c6eb-fa70d0bfe575"
   },
   "outputs": [
    {
     "data": {
      "text/html": [
       "<div>\n",
       "<style scoped>\n",
       "    .dataframe tbody tr th:only-of-type {\n",
       "        vertical-align: middle;\n",
       "    }\n",
       "\n",
       "    .dataframe tbody tr th {\n",
       "        vertical-align: top;\n",
       "    }\n",
       "\n",
       "    .dataframe thead th {\n",
       "        text-align: right;\n",
       "    }\n",
       "</style>\n",
       "<table border=\"1\" class=\"dataframe\">\n",
       "  <thead>\n",
       "    <tr style=\"text-align: right;\">\n",
       "      <th></th>\n",
       "      <th>itemId</th>\n",
       "      <th>category</th>\n",
       "      <th>name</th>\n",
       "      <th>brandName</th>\n",
       "      <th>url</th>\n",
       "      <th>price</th>\n",
       "      <th>averageRating</th>\n",
       "      <th>totalReviews</th>\n",
       "      <th>retrievedDate</th>\n",
       "    </tr>\n",
       "  </thead>\n",
       "  <tbody>\n",
       "    <tr>\n",
       "      <th>0</th>\n",
       "      <td>100002528</td>\n",
       "      <td>beli-harddisk-eksternal</td>\n",
       "      <td>TOSHIBA Smart HD LED TV 32\" - 32L5650VJ Free B...</td>\n",
       "      <td>Toshiba</td>\n",
       "      <td>https://www.lazada.co.id/products/toshiba-smar...</td>\n",
       "      <td>2499000</td>\n",
       "      <td>4</td>\n",
       "      <td>8</td>\n",
       "      <td>2019-10-02</td>\n",
       "    </tr>\n",
       "    <tr>\n",
       "      <th>1</th>\n",
       "      <td>100003785</td>\n",
       "      <td>beli-harddisk-eksternal</td>\n",
       "      <td>TOSHIBA Full HD Smart LED TV 40\" - 40L5650VJ -...</td>\n",
       "      <td>Toshiba</td>\n",
       "      <td>https://www.lazada.co.id/products/toshiba-full...</td>\n",
       "      <td>3788000</td>\n",
       "      <td>3</td>\n",
       "      <td>3</td>\n",
       "      <td>2019-10-02</td>\n",
       "    </tr>\n",
       "    <tr>\n",
       "      <th>2</th>\n",
       "      <td>100004132</td>\n",
       "      <td>beli-harddisk-eksternal</td>\n",
       "      <td>Samsung 40 Inch Full HD Flat LED Digital TV 4...</td>\n",
       "      <td>LG</td>\n",
       "      <td>https://www.lazada.co.id/products/samsung-40-i...</td>\n",
       "      <td>3850000</td>\n",
       "      <td>3</td>\n",
       "      <td>2</td>\n",
       "      <td>2019-10-02</td>\n",
       "    </tr>\n",
       "    <tr>\n",
       "      <th>3</th>\n",
       "      <td>100004505</td>\n",
       "      <td>beli-harddisk-eksternal</td>\n",
       "      <td>Sharp HD LED TV 24\" - LC-24LE175I - Hitam</td>\n",
       "      <td>Sharp</td>\n",
       "      <td>https://www.lazada.co.id/products/sharp-hd-led...</td>\n",
       "      <td>1275000</td>\n",
       "      <td>3</td>\n",
       "      <td>11</td>\n",
       "      <td>2019-10-02</td>\n",
       "    </tr>\n",
       "    <tr>\n",
       "      <th>4</th>\n",
       "      <td>100005037</td>\n",
       "      <td>beli-harddisk-eksternal</td>\n",
       "      <td>Lenovo Ideapad 130-15AST LAPTOP MULTIMEDIA I A...</td>\n",
       "      <td>Lenovo</td>\n",
       "      <td>https://www.lazada.co.id/products/lenovo-ideap...</td>\n",
       "      <td>3984100</td>\n",
       "      <td>5</td>\n",
       "      <td>1</td>\n",
       "      <td>2019-10-02</td>\n",
       "    </tr>\n",
       "  </tbody>\n",
       "</table>\n",
       "</div>"
      ],
      "text/plain": [
       "      itemId                 category  \\\n",
       "0  100002528  beli-harddisk-eksternal   \n",
       "1  100003785  beli-harddisk-eksternal   \n",
       "2  100004132  beli-harddisk-eksternal   \n",
       "3  100004505  beli-harddisk-eksternal   \n",
       "4  100005037  beli-harddisk-eksternal   \n",
       "\n",
       "                                                name brandName  \\\n",
       "0  TOSHIBA Smart HD LED TV 32\" - 32L5650VJ Free B...   Toshiba   \n",
       "1  TOSHIBA Full HD Smart LED TV 40\" - 40L5650VJ -...   Toshiba   \n",
       "2   Samsung 40 Inch Full HD Flat LED Digital TV 4...        LG   \n",
       "3          Sharp HD LED TV 24\" - LC-24LE175I - Hitam     Sharp   \n",
       "4  Lenovo Ideapad 130-15AST LAPTOP MULTIMEDIA I A...    Lenovo   \n",
       "\n",
       "                                                 url    price  averageRating  \\\n",
       "0  https://www.lazada.co.id/products/toshiba-smar...  2499000              4   \n",
       "1  https://www.lazada.co.id/products/toshiba-full...  3788000              3   \n",
       "2  https://www.lazada.co.id/products/samsung-40-i...  3850000              3   \n",
       "3  https://www.lazada.co.id/products/sharp-hd-led...  1275000              3   \n",
       "4  https://www.lazada.co.id/products/lenovo-ideap...  3984100              5   \n",
       "\n",
       "   totalReviews retrievedDate  \n",
       "0             8    2019-10-02  \n",
       "1             3    2019-10-02  \n",
       "2             2    2019-10-02  \n",
       "3            11    2019-10-02  \n",
       "4             1    2019-10-02  "
      ]
     },
     "execution_count": 3,
     "metadata": {},
     "output_type": "execute_result"
    }
   ],
   "source": [
    "# Import Pandas\n",
    "import pandas as pd\n",
    "from sklearn.model_selection import train_test_split\n",
    "from sklearn.preprocessing import StandardScaler\n",
    "from sklearn.metrics import mean_squared_error\n",
    "import numpy as np\n",
    "import random\n",
    "import tkinter as tk\n",
    "from tkinter import Scrollbar, Text\n",
    "from tkinter import messagebox\n",
    "\n",
    "import matplotlib.pyplot as plt\n",
    "import seaborn as sns\n",
    "\n",
    "import plotly.graph_objects as go\n",
    "import plotly.express as px\n",
    "from plotly.subplots import make_subplots\n",
    "\n",
    "# Load Movies Metadata\n",
    "metadata = pd.read_csv('20191002-items.csv', low_memory=False)\n",
    "\n",
    "# Print the first three rows\n",
    "metadata.head()"
   ]
  },
  {
   "cell_type": "code",
   "execution_count": 5,
   "metadata": {
    "colab": {},
    "colab_type": "code",
    "id": "h8JqhFyeE4U3"
   },
   "outputs": [
    {
     "data": {
      "text/plain": [
       "(10942, 9)"
      ]
     },
     "execution_count": 5,
     "metadata": {},
     "output_type": "execute_result"
    }
   ],
   "source": [
    "metadata.shape"
   ]
  },
  {
   "cell_type": "markdown",
   "metadata": {
    "colab_type": "text",
    "id": "jGu41wRAE4U5"
   },
   "source": [
    "There are 10942 rows and 9 columns"
   ]
  },
  {
   "cell_type": "markdown",
   "metadata": {
    "colab_type": "text",
    "id": "rbVHHCCcE4U6"
   },
   "source": [
    "Let's inspect the names of a few products:"
   ]
  },
  {
   "cell_type": "code",
   "execution_count": 6,
   "metadata": {
    "colab": {},
    "colab_type": "code",
    "id": "3dX_XsEdE4U6",
    "outputId": "1bbbd95a-4db9-4d81-f9f4-00c8e98f672a"
   },
   "outputs": [
    {
     "data": {
      "text/plain": [
       "0    TOSHIBA Smart HD LED TV 32\" - 32L5650VJ Free B...\n",
       "1    TOSHIBA Full HD Smart LED TV 40\" - 40L5650VJ -...\n",
       "2     Samsung 40 Inch Full HD Flat LED Digital TV 4...\n",
       "3            Sharp HD LED TV 24\" - LC-24LE175I - Hitam\n",
       "4    Lenovo Ideapad 130-15AST LAPTOP MULTIMEDIA I A...\n",
       "Name: name, dtype: object"
      ]
     },
     "execution_count": 6,
     "metadata": {},
     "output_type": "execute_result"
    }
   ],
   "source": [
    "#The plot description is available to you as the overview feature in your metadata dataset. \n",
    "metadata['name'].head()"
   ]
  },
  {
   "cell_type": "markdown",
   "metadata": {
    "colab_type": "text",
    "id": "bAleWRjYE4U8"
   },
   "source": [
    "## Section 2 Features Generation\n"
   ]
  },
  {
   "cell_type": "markdown",
   "metadata": {
    "colab_type": "text",
    "id": "DFlWqylfE4U9"
   },
   "source": [
    "Next, we used scikit-learn's built-in TfIdfVectorizer class to produce the TF-IDF matrix, by:\n",
    "\n",
    "1. Importing the Tfidf module using scikit-learn;\n",
    "\n",
    "2. Removing stop words like 'the', 'an', etc. since they do not give any useful information about the topic;\n",
    "\n",
    "3. Replacing not-a-number values with a blank string; \n",
    "\n",
    "4. Constructing the TF-IDF matrix on the data."
   ]
  },
  {
   "cell_type": "code",
   "execution_count": 7,
   "metadata": {
    "colab": {},
    "colab_type": "code",
    "id": "Vc5LCSWaE4U9",
    "outputId": "7d7db938-3755-4ebb-fcb9-79d4ca8c9833"
   },
   "outputs": [
    {
     "data": {
      "text/plain": [
       "(10942, 3784)"
      ]
     },
     "execution_count": 7,
     "metadata": {},
     "output_type": "execute_result"
    }
   ],
   "source": [
    "# Import TfIdfVectorizer from scikit-learn\n",
    "from sklearn.feature_extraction.text import TfidfVectorizer\n",
    "\n",
    "# Define a TF-IDF Vectorizer Object. Remove all English stop words\n",
    "tfidf = TfidfVectorizer(stop_words='english')\n",
    "\n",
    "# Replace NaN values with an empty string for the 'name' column (or any other column you want to use for TF-IDF)\n",
    "metadata['name'] = metadata['name'].fillna('')\n",
    "\n",
    "# Construct the required TF-IDF matrix by fitting and transforming the data\n",
    "tfidf_matrix = tfidf.fit_transform(metadata['name'])\n",
    "\n",
    "# Output the shape of tfidf_matrix\n",
    "tfidf_matrix.shape\n"
   ]
  },
  {
   "cell_type": "markdown",
   "metadata": {
    "colab_type": "text",
    "id": "0KmG9TZrE4VB"
   },
   "source": [
    "There are 3,784 different vocabularies or words (features) in the dataset that contains 10,942 products.\n"
   ]
  },
  {
   "cell_type": "code",
   "execution_count": 8,
   "metadata": {
    "colab": {},
    "colab_type": "code",
    "id": "RIcsXElCE4VB",
    "outputId": "caa07c51-eba9-4091-a72d-2b1ffe035dad"
   },
   "outputs": [
    {
     "data": {
      "text/plain": [
       "array(['army', 'array', 'art', 'asli', 'asm', 'aspire', 'assus', 'astro',\n",
       "       'asuransi', 'asus'], dtype=object)"
      ]
     },
     "execution_count": 8,
     "metadata": {},
     "output_type": "execute_result"
    }
   ],
   "source": [
    "#Array mapping from feature integer indices to feature name.\n",
    "tfidf.get_feature_names_out()[1000:1010]"
   ]
  },
  {
   "cell_type": "markdown",
   "metadata": {
    "colab_type": "text",
    "id": "0Zmnz4NTE4VE"
   },
   "source": [
    "With the matrix, we can now use the cosine similarity to calculate a numeric quantity that denotes the similarity between two products. Cosine similarity is a popular choice because it works well for text-based data and is robust to the magnitude of vectors. It takes into account the importance of words in a text-based document collection."
   ]
  },
  {
   "cell_type": "markdown",
   "metadata": {
    "colab_type": "text",
    "id": "QvFwEGVKE4VE"
   },
   "source": [
    "Since TF-IDF vectorizer is used, calculating the dot product between each vector will directly give you the cosine similarity score. Therefore, we will use sklearn's <i>linear_kernel()</i> instead of <i>cosine_similarities()</i> since it is faster."
   ]
  },
  {
   "cell_type": "code",
   "execution_count": 57,
   "metadata": {
    "colab": {},
    "colab_type": "code",
    "id": "6PIAy37oE4VE"
   },
   "outputs": [],
   "source": [
    "# Import linear_kernel\n",
    "from sklearn.metrics.pairwise import linear_kernel\n",
    "\n",
    "# Compute the cosine similarity matrix\n",
    "cosine_sim = linear_kernel(tfidf_matrix, tfidf_matrix)"
   ]
  },
  {
   "cell_type": "code",
   "execution_count": 58,
   "metadata": {
    "colab": {},
    "colab_type": "code",
    "id": "zpHGt3oGE4VG",
    "outputId": "30637702-633f-4a30-8654-bade99068203"
   },
   "outputs": [
    {
     "data": {
      "text/plain": [
       "(10942, 10942)"
      ]
     },
     "execution_count": 58,
     "metadata": {},
     "output_type": "execute_result"
    }
   ],
   "source": [
    "cosine_sim.shape"
   ]
  },
  {
   "cell_type": "markdown",
   "metadata": {
    "colab_type": "text",
    "id": "yIxA05T_E4VI"
   },
   "source": [
    "The above returns a matrix of shape 10942x10942, which means each product overview cosine similarity score with every other product overview. Hence, each product will be a 1x10942 column vector where each column will be a similarity score with each product."
   ]
  },
  {
   "cell_type": "code",
   "execution_count": 11,
   "metadata": {
    "colab": {},
    "colab_type": "code",
    "id": "9aZHMf7zE4VJ",
    "outputId": "0427f7be-7f8d-4c34-8cb6-1c0dc0422c94"
   },
   "outputs": [
    {
     "name": "stdout",
     "output_type": "stream",
     "text": [
      "[1.         0.48307326 0.13742051 0.20957068 0.05027774 0.        ]\n",
      "[0.48307326 1.         0.23674775 0.18661981 0.05422743 0.        ]\n",
      "[0.13742051 0.23674775 1.         0.12880672 0.05339002 0.        ]\n",
      "[0.20957068 0.18661981 0.12880672 1.         0.06132393 0.        ]\n",
      "[0.05027774 0.05422743 0.05339002 0.06132393 1.         0.        ]\n",
      "[0. 0. 0. 0. 0. 1.]\n"
     ]
    }
   ],
   "source": [
    "#observing the first 6 rows and 6 columns\n",
    "for i in range(6):\n",
    "    print(cosine_sim[i][:6])"
   ]
  },
  {
   "cell_type": "markdown",
   "metadata": {
    "colab_type": "text",
    "id": "dEOZFrm2E4VM"
   },
   "source": [
    "Next, we defined a function that takes in a product name as an input and outputs a list of the 10 most similar products. Firstly, for this, we need a reverse mapping of product names and DataFrame indices. In other words, we are generating the ID for each product name using index."
   ]
  },
  {
   "cell_type": "code",
   "execution_count": 12,
   "metadata": {
    "colab": {},
    "colab_type": "code",
    "id": "Un5kFaPNE4VM",
    "outputId": "f265d47a-595c-490b-8695-47ac2ebf450b"
   },
   "outputs": [
    {
     "data": {
      "text/plain": [
       "name\n",
       "TOSHIBA Smart HD LED TV 32\" - 32L5650VJ Free Bracket TV - Hitam - Khusus Jabodetabek                                             0\n",
       "TOSHIBA Full HD Smart LED TV 40\" - 40L5650VJ - Hitam - Khusus Jabodetabek                                                        1\n",
       " Samsung 40 Inch Full HD Flat LED Digital TV 40J5000                                                                             2\n",
       "Sharp HD LED TV 24\" - LC-24LE175I - Hitam                                                                                        3\n",
       "Lenovo Ideapad 130-15AST LAPTOP MULTIMEDIA I AMD A4-9125 I 8GB DDR4 I 1TB HDD I AMD Radeon R3 I 15,6 HD LED I DVDRW I DOS        4\n",
       "                                                                                                                             ...  \n",
       "Toshiba 32L3750VJ Digital Tv DVB-T2 LED TV 32\" + Free Bracket TV - Khusus JABODETABEK                                        10937\n",
       "Samsung 43K5002AK Televisi LED - Khusus JABODETABEK                                                                          10938\n",
       "Sharp 32LE180i  AQUOS LED TV 32 \" Khusus JABODETABEK                                                                         10939\n",
       "Akari LED TV LE-50D88 50\" FULL HD (Hitam)   - Khusus JABODETABEK                                                             10940\n",
       "Akari LED TV LE-25B88 25\" HD READY (Hitam)   - Khusus JABODETABEK                                                            10941\n",
       "Length: 10942, dtype: int64"
      ]
     },
     "execution_count": 12,
     "metadata": {},
     "output_type": "execute_result"
    }
   ],
   "source": [
    "#Construct a reverse map of indices and movie titles\n",
    "indices = pd.Series(metadata.index, index=metadata['name']).drop_duplicates()\n",
    "\n",
    "#check the first 10 indices\n",
    "indices[:]"
   ]
  },
  {
   "cell_type": "markdown",
   "metadata": {
    "colab_type": "text",
    "id": "tPqhFpZaE4VP"
   },
   "source": [
    "## Section 3 Content-Based Filtering Recommender"
   ]
  },
  {
   "cell_type": "markdown",
   "metadata": {
    "colab_type": "text",
    "id": "vBppfWdbE4VP"
   },
   "source": [
    "Next we will build a content filtering recommender by doing the following steps:\n",
    "\n",
    "1. Getting the index of the product given its name.\n",
    "\n",
    "2. Getting the list of cosine similarity scores for that particular product with all products. Convert it into a list of tuples where the first element is its position, and the second is the similarity score.\n",
    "\n",
    "3. Sorting the aforementioned list of tuples based on the similarity scores; that is, the second element.\n",
    "\n",
    "4. Getting the top 10 elements of this list. Ignore the first element as it refers to self (the product most similar to a particular product is the product itself).\n",
    "\n",
    "5. Returning the titles corresponding to the indices of the top elements."
   ]
  },
  {
   "cell_type": "code",
   "execution_count": 13,
   "metadata": {
    "colab": {},
    "colab_type": "code",
    "id": "mhCmCDlDE4VP"
   },
   "outputs": [],
   "source": [
    "def get_recommendations(name, cosine_sim=cosine_sim):\n",
    "    # Get the index of the product that matches the title\n",
    "    idx = indices[name]\n",
    "    if isinstance(idx, pd.Series):\n",
    "        # Handle multiple products with the same name by selecting the first one\n",
    "        idx = idx.iloc[0]\n",
    "\n",
    "    # Get the pairwise similarity scores of all products with that product\n",
    "    sim_scores = list(enumerate(cosine_sim[idx]))\n",
    "\n",
    "    # Sort the products based on the similarity scores\n",
    "    sim_scores = sorted(sim_scores, key=lambda x: x[1], reverse=True)\n",
    "\n",
    "    # Get the scores of the 10 most similar products\n",
    "    sim_scores = sim_scores[1:11]\n",
    "\n",
    "    # Get the product indices\n",
    "    product_indices = [i[0] for i in sim_scores]\n",
    "\n",
    "    # Return the top 10 most similar movies\n",
    "    return metadata['name'].iloc[product_indices]"
   ]
  },
  {
   "cell_type": "code",
   "execution_count": 79,
   "metadata": {
    "colab": {},
    "colab_type": "code",
    "id": "xfK5mr56E4VR",
    "outputId": "5183b9b4-823a-4779-8374-d4adfe8beffc"
   },
   "outputs": [
    {
     "data": {
      "text/plain": [
       "5075     Refurbished Lenovo Thinkpad L430 - 4GB - 320GB...\n",
       "6333     Refurbished Lenovo Thinkpad L430 - 4GB - 320GB...\n",
       "9388     Refurbished Lenovo Thinkpad L430 - 4GB - 320GB...\n",
       "10864    Refurbished Lenovo Thinkpad L430 - 4GB - 320GB...\n",
       "4008     Refurbished Lenovo Thinkpad Yoga 11e - 4GB - 1...\n",
       "5073     Refurbished Lenovo Thinkpad Yoga 11e - 4GB - 1...\n",
       "6331     Refurbished Lenovo Thinkpad Yoga 11e - 4GB - 1...\n",
       "9386     Refurbished Lenovo Thinkpad Yoga 11e - 4GB - 1...\n",
       "10862    Refurbished Lenovo Thinkpad Yoga 11e - 4GB - 1...\n",
       "4059     Promo Lenovo Thinkpad T420S - Laptop - Noteboo...\n",
       "Name: name, dtype: object"
      ]
     },
     "execution_count": 79,
     "metadata": {},
     "output_type": "execute_result"
    }
   ],
   "source": [
    "get_recommendations('Refurbished Lenovo Thinkpad L430 - 4GB - 320GB - 14 inch - Intel Core i5 2nd Gen')"
   ]
  },
  {
   "cell_type": "markdown",
   "metadata": {},
   "source": [
    "Since people using e-commerce systems search for their desired by keywords that make up a part of a product's name, and never by a product's full name, a function taking in the full name of a product is unrealistic and far from practical. We need a function that is able to take in a string input that can be a part of the full product name to get recommendations."
   ]
  },
  {
   "cell_type": "code",
   "execution_count": 15,
   "metadata": {},
   "outputs": [],
   "source": [
    "def get_recommendations_partial(name, cosine_sim=cosine_sim):\n",
    "    # Filter products that contain the input name as a substring\n",
    "    matching_products = metadata[metadata['name'].str.contains(name, case=False)]\n",
    "\n",
    "    if matching_products.empty:\n",
    "        return \"No matching products found.\"\n",
    "\n",
    "    recommendations = {}\n",
    "\n",
    "    for _, matching_product in matching_products.iterrows():\n",
    "        idx = indices[matching_product['name']]\n",
    "        sim_scores = cosine_sim[idx]\n",
    "        avg_sim_score = sim_scores.mean()\n",
    "\n",
    "        recommendations[matching_product['name']] = avg_sim_score\n",
    "\n",
    "    sorted_recommendations = sorted(recommendations.items(), key=lambda x: x[1], reverse=True)\n",
    "    top_recommendations = [rec[0] for rec in sorted_recommendations][:10]\n",
    "\n",
    "    return top_recommendations"
   ]
  },
  {
   "cell_type": "code",
   "execution_count": 86,
   "metadata": {},
   "outputs": [
    {
     "data": {
      "text/plain": [
       "['Flashdisk USB - Flash disk USB - Flash Drive Toshiba 4GB FREE KABEL OTG',\n",
       " 'Flashdisk 32GB Toshiba USB Flashdisk [32 GB]',\n",
       " 'Flashdisk Toshiba 32 gb Flash Drive Flash Disk',\n",
       " 'TOSHIBA Flashdisk 32GB USB Flash Drive - Putih',\n",
       " 'Flashdisk USB Flash Drive Toshiba 16 GB Putih',\n",
       " 'Toshiba Flashdisk 16GB USB Flash Memory + Free Flashdisk 8GB',\n",
       " 'Flashdisk Toshiba USB [8 GB]',\n",
       " 'Flashdisk Toshiba 4GB Flash Drive Flash Disk',\n",
       " 'Toshiba Flashdisk Flash Drive Toshiba 64 GB USB 0.3 Murah',\n",
       " 'External Toshiba Canvio Ready  1TB - HDD / HD / Hardisk Eksternal Usb 3.0 - Hitam  + Gratis  Pouch Hdd + Flash Drive Toshiba 16Gb Usb 3.0']"
      ]
     },
     "execution_count": 86,
     "metadata": {},
     "output_type": "execute_result"
    }
   ],
   "source": [
    "get_recommendations_partial('shiba')"
   ]
  },
  {
   "cell_type": "markdown",
   "metadata": {
    "colab_type": "text",
    "id": "jTC2oUNrE4VT"
   },
   "source": [
    "Now that our Scikit-Learn's cosine similarity score based content-based recommender system is complete, we may proceed to go into creating our LightGBM regression model."
   ]
  },
  {
   "cell_type": "markdown",
   "metadata": {},
   "source": [
    "# LightGBM Regression Model\n",
    "First we import the LightGBM library and create a new dataframe of our products csv file."
   ]
  },
  {
   "cell_type": "code",
   "execution_count": 4,
   "metadata": {},
   "outputs": [],
   "source": [
    "import lightgbm as lgb"
   ]
  },
  {
   "cell_type": "code",
   "execution_count": 17,
   "metadata": {},
   "outputs": [
    {
     "data": {
      "text/html": [
       "<div>\n",
       "<style scoped>\n",
       "    .dataframe tbody tr th:only-of-type {\n",
       "        vertical-align: middle;\n",
       "    }\n",
       "\n",
       "    .dataframe tbody tr th {\n",
       "        vertical-align: top;\n",
       "    }\n",
       "\n",
       "    .dataframe thead th {\n",
       "        text-align: right;\n",
       "    }\n",
       "</style>\n",
       "<table border=\"1\" class=\"dataframe\">\n",
       "  <thead>\n",
       "    <tr style=\"text-align: right;\">\n",
       "      <th></th>\n",
       "      <th>itemId</th>\n",
       "      <th>category</th>\n",
       "      <th>name</th>\n",
       "      <th>brandName</th>\n",
       "      <th>url</th>\n",
       "      <th>price</th>\n",
       "      <th>averageRating</th>\n",
       "      <th>totalReviews</th>\n",
       "      <th>retrievedDate</th>\n",
       "    </tr>\n",
       "  </thead>\n",
       "  <tbody>\n",
       "    <tr>\n",
       "      <th>0</th>\n",
       "      <td>100002528</td>\n",
       "      <td>beli-harddisk-eksternal</td>\n",
       "      <td>TOSHIBA Smart HD LED TV 32\" - 32L5650VJ Free B...</td>\n",
       "      <td>Toshiba</td>\n",
       "      <td>https://www.lazada.co.id/products/toshiba-smar...</td>\n",
       "      <td>2499000</td>\n",
       "      <td>4</td>\n",
       "      <td>8</td>\n",
       "      <td>2019-10-02</td>\n",
       "    </tr>\n",
       "    <tr>\n",
       "      <th>1</th>\n",
       "      <td>100003785</td>\n",
       "      <td>beli-harddisk-eksternal</td>\n",
       "      <td>TOSHIBA Full HD Smart LED TV 40\" - 40L5650VJ -...</td>\n",
       "      <td>Toshiba</td>\n",
       "      <td>https://www.lazada.co.id/products/toshiba-full...</td>\n",
       "      <td>3788000</td>\n",
       "      <td>3</td>\n",
       "      <td>3</td>\n",
       "      <td>2019-10-02</td>\n",
       "    </tr>\n",
       "    <tr>\n",
       "      <th>2</th>\n",
       "      <td>100004132</td>\n",
       "      <td>beli-harddisk-eksternal</td>\n",
       "      <td>Samsung 40 Inch Full HD Flat LED Digital TV 4...</td>\n",
       "      <td>LG</td>\n",
       "      <td>https://www.lazada.co.id/products/samsung-40-i...</td>\n",
       "      <td>3850000</td>\n",
       "      <td>3</td>\n",
       "      <td>2</td>\n",
       "      <td>2019-10-02</td>\n",
       "    </tr>\n",
       "    <tr>\n",
       "      <th>3</th>\n",
       "      <td>100004505</td>\n",
       "      <td>beli-harddisk-eksternal</td>\n",
       "      <td>Sharp HD LED TV 24\" - LC-24LE175I - Hitam</td>\n",
       "      <td>Sharp</td>\n",
       "      <td>https://www.lazada.co.id/products/sharp-hd-led...</td>\n",
       "      <td>1275000</td>\n",
       "      <td>3</td>\n",
       "      <td>11</td>\n",
       "      <td>2019-10-02</td>\n",
       "    </tr>\n",
       "    <tr>\n",
       "      <th>4</th>\n",
       "      <td>100005037</td>\n",
       "      <td>beli-harddisk-eksternal</td>\n",
       "      <td>Lenovo Ideapad 130-15AST LAPTOP MULTIMEDIA I A...</td>\n",
       "      <td>Lenovo</td>\n",
       "      <td>https://www.lazada.co.id/products/lenovo-ideap...</td>\n",
       "      <td>3984100</td>\n",
       "      <td>5</td>\n",
       "      <td>1</td>\n",
       "      <td>2019-10-02</td>\n",
       "    </tr>\n",
       "  </tbody>\n",
       "</table>\n",
       "</div>"
      ],
      "text/plain": [
       "      itemId                 category  \\\n",
       "0  100002528  beli-harddisk-eksternal   \n",
       "1  100003785  beli-harddisk-eksternal   \n",
       "2  100004132  beli-harddisk-eksternal   \n",
       "3  100004505  beli-harddisk-eksternal   \n",
       "4  100005037  beli-harddisk-eksternal   \n",
       "\n",
       "                                                name brandName  \\\n",
       "0  TOSHIBA Smart HD LED TV 32\" - 32L5650VJ Free B...   Toshiba   \n",
       "1  TOSHIBA Full HD Smart LED TV 40\" - 40L5650VJ -...   Toshiba   \n",
       "2   Samsung 40 Inch Full HD Flat LED Digital TV 4...        LG   \n",
       "3          Sharp HD LED TV 24\" - LC-24LE175I - Hitam     Sharp   \n",
       "4  Lenovo Ideapad 130-15AST LAPTOP MULTIMEDIA I A...    Lenovo   \n",
       "\n",
       "                                                 url    price  averageRating  \\\n",
       "0  https://www.lazada.co.id/products/toshiba-smar...  2499000              4   \n",
       "1  https://www.lazada.co.id/products/toshiba-full...  3788000              3   \n",
       "2  https://www.lazada.co.id/products/samsung-40-i...  3850000              3   \n",
       "3  https://www.lazada.co.id/products/sharp-hd-led...  1275000              3   \n",
       "4  https://www.lazada.co.id/products/lenovo-ideap...  3984100              5   \n",
       "\n",
       "   totalReviews retrievedDate  \n",
       "0             8    2019-10-02  \n",
       "1             3    2019-10-02  \n",
       "2             2    2019-10-02  \n",
       "3            11    2019-10-02  \n",
       "4             1    2019-10-02  "
      ]
     },
     "execution_count": 17,
     "metadata": {},
     "output_type": "execute_result"
    }
   ],
   "source": [
    "productdf = pd.read_csv('20191002-items.csv', low_memory=False)\n",
    "productdf.head()"
   ]
  },
  {
   "cell_type": "code",
   "execution_count": 18,
   "metadata": {},
   "outputs": [
    {
     "data": {
      "text/plain": [
       "(10942, 9)"
      ]
     },
     "execution_count": 18,
     "metadata": {},
     "output_type": "execute_result"
    }
   ],
   "source": [
    "productdf.shape"
   ]
  },
  {
   "cell_type": "code",
   "execution_count": 19,
   "metadata": {},
   "outputs": [
    {
     "data": {
      "text/plain": [
       "Index(['itemId', 'category', 'name', 'brandName', 'url', 'price',\n",
       "       'averageRating', 'totalReviews', 'retrievedDate'],\n",
       "      dtype='object')"
      ]
     },
     "execution_count": 19,
     "metadata": {},
     "output_type": "execute_result"
    }
   ],
   "source": [
    "productdf.columns"
   ]
  },
  {
   "cell_type": "markdown",
   "metadata": {},
   "source": [
    "# Data Cleansing\n",
    "We check for null values in our dataframe and proceeds to remove it first."
   ]
  },
  {
   "cell_type": "code",
   "execution_count": 20,
   "metadata": {},
   "outputs": [
    {
     "data": {
      "text/plain": [
       "itemId           False\n",
       "category         False\n",
       "name             False\n",
       "brandName         True\n",
       "url              False\n",
       "price            False\n",
       "averageRating    False\n",
       "totalReviews     False\n",
       "retrievedDate    False\n",
       "dtype: bool"
      ]
     },
     "execution_count": 20,
     "metadata": {},
     "output_type": "execute_result"
    }
   ],
   "source": [
    "productdf.isnull().any()"
   ]
  },
  {
   "cell_type": "code",
   "execution_count": 21,
   "metadata": {},
   "outputs": [],
   "source": [
    "productdf.dropna(inplace=True)"
   ]
  },
  {
   "cell_type": "markdown",
   "metadata": {},
   "source": [
    "# Feature Engineering\n",
    "Feature engineering involves creating features from our dataset that might be relevant for making recommendations. For the recommender system using LightGBM, we can perform feature engineering using the columns available in our dataset."
   ]
  },
  {
   "cell_type": "code",
   "execution_count": 22,
   "metadata": {},
   "outputs": [
    {
     "name": "stdout",
     "output_type": "stream",
     "text": [
      "      category  brandName    price  totalReviews\n",
      "7534         3        168   290000             3\n",
      "838          0          3  3990000             5\n",
      "7134         3        192    67500             1\n",
      "4901         1          3  4115000             2\n",
      "4796         1         16  8215600             5\n"
     ]
    }
   ],
   "source": [
    "# Define your target variable\n",
    "target = 'averageRating'  # You can choose 'averageRating' as a target\n",
    "\n",
    "# Define your features\n",
    "# You can select relevant columns as features for your recommender\n",
    "features = ['category', 'brandName', 'price', 'totalReviews']\n",
    "\n",
    "# If you have a 'retrievedDate' column, you can convert it to a datetime object\n",
    "productdf['retrievedDate'] = pd.to_datetime(productdf['retrievedDate'])\n",
    "\n",
    "# Extract additional datetime features\n",
    "productdf['year'] = productdf['retrievedDate'].dt.year\n",
    "productdf['month'] = productdf['retrievedDate'].dt.month\n",
    "productdf['day'] = productdf['retrievedDate'].dt.day\n",
    "productdf['dayofweek'] = productdf['retrievedDate'].dt.dayofweek\n",
    "\n",
    "# Split data into training and test sets\n",
    "X_train, X_test, y_train, y_test = train_test_split(productdf[features], productdf[target], test_size=0.2, random_state=42)\n",
    "\n",
    "# Check the first few rows of the training data to verify the feature engineering\n",
    "print(X_train.head())"
   ]
  },
  {
   "cell_type": "markdown",
   "metadata": {},
   "source": [
    "# Label Encoding \n",
    "Since our features contain categorical variables (e.g., \"category,\" \"brandName\"), we'll need to encode them into numerical values using techniques like label encoding or one-hot encoding."
   ]
  },
  {
   "cell_type": "code",
   "execution_count": null,
   "metadata": {},
   "outputs": [],
   "source": [
    "# Label encode categorical features (e.g., 'category' and 'brandName')\n",
    "from sklearn.preprocessing import LabelEncoder\n",
    "\n",
    "label_encoders = {}\n",
    "for feature in ['category', 'brandName']:\n",
    "    label_encoders[feature] = LabelEncoder()\n",
    "    productdf[feature] = label_encoders[feature].fit_transform(productdf[feature])\n"
   ]
  },
  {
   "cell_type": "markdown",
   "metadata": {},
   "source": [
    "# Train-Test Split\n",
    "We split our dataset into training and testing sets. We'll use the training set to train the model and the testing set to evaluate its performance."
   ]
  },
  {
   "cell_type": "code",
   "execution_count": 23,
   "metadata": {},
   "outputs": [],
   "source": [
    "train_data = lgb.Dataset(X_train, label=y_train)"
   ]
  },
  {
   "cell_type": "markdown",
   "metadata": {},
   "source": [
    "# Train the Model\n",
    "We defined our LightGBM model's parameters, and trained our LightGBM model using the training dataset and parameters."
   ]
  },
  {
   "cell_type": "code",
   "execution_count": 24,
   "metadata": {},
   "outputs": [],
   "source": [
    "params = {\n",
    "    'objective': 'regression',  # Since it's a regression problem\n",
    "    'metric': 'rmse',  # Root Mean Squared Error as the evaluation metric\n",
    "    'boosting_type': 'gbdt',  # Gradient Boosting Decision Tree\n",
    "    'num_leaves': 31,  # Maximum number of leaves in one tree\n",
    "    'learning_rate': 0.05,  # Learning rate\n",
    "    'feature_fraction': 0.9,  # Feature fraction for each tree\n",
    "    'bagging_fraction': 0.8,  # Bagging fraction for each tree\n",
    "    'bagging_freq': 5,  # Frequency for bagging\n",
    "    'verbose': 0  # Verbosity\n",
    "}"
   ]
  },
  {
   "cell_type": "code",
   "execution_count": 25,
   "metadata": {},
   "outputs": [],
   "source": [
    "num_round = 100  # Number of boosting rounds (you can adjust this)\n",
    "bst = lgb.train(params, train_data, num_round)"
   ]
  },
  {
   "cell_type": "markdown",
   "metadata": {},
   "source": [
    "# Evaluate the Model\n",
    "We used the trained model to make predictions on our test data, and evaluated the model's performance using appropriate metrics (e.g., RMSE) and analyzed the results."
   ]
  },
  {
   "cell_type": "code",
   "execution_count": 26,
   "metadata": {},
   "outputs": [],
   "source": [
    "y_pred = bst.predict(X_test, num_iteration=bst.best_iteration)"
   ]
  },
  {
   "cell_type": "code",
   "execution_count": 27,
   "metadata": {},
   "outputs": [
    {
     "name": "stdout",
     "output_type": "stream",
     "text": [
      "Root Mean Squared Error (RMSE): 0.9460617466426621\n"
     ]
    }
   ],
   "source": [
    "rmse = mean_squared_error(y_test, y_pred, squared=False)\n",
    "print(f\"Root Mean Squared Error (RMSE): {rmse}\")"
   ]
  },
  {
   "cell_type": "markdown",
   "metadata": {},
   "source": [
    "The Root Mean Squared Error (RMSE) value of 0.9460617466426621 is a metric used to evaluate the performance of a regression model. In our recommender system, it indicates how well our LightGBM model predicts the ratings or preferences of users for products."
   ]
  },
  {
   "cell_type": "code",
   "execution_count": 28,
   "metadata": {},
   "outputs": [
    {
     "name": "stdout",
     "output_type": "stream",
     "text": [
      "[3.96734536 3.90749091 4.51539997 ... 4.81724706 4.42770376 4.35088368]\n"
     ]
    }
   ],
   "source": [
    "print(y_pred)"
   ]
  },
  {
   "cell_type": "markdown",
   "metadata": {},
   "source": [
    "# Algorithm Merging - Hybridization\n",
    "Now that we have both a working model of LightGBM model and the content-based model, we will proceed into creatng a hybrid recommender system that combines the predictions from our LightGBM model and the content-based model. We start this section by using our trained LightGBM model to predict ratings for all products in the catalog."
   ]
  },
  {
   "cell_type": "code",
   "execution_count": 29,
   "metadata": {},
   "outputs": [],
   "source": [
    "# Predict ratings for all products in the catalog\n",
    "predicted_ratings = bst.predict(productdf[features])\n",
    "\n",
    "# Create a DataFrame to store product IDs and their predicted ratings\n",
    "catalog_predictions = pd.DataFrame({'itemId': productdf['itemId'], 'predicted_rating': predicted_ratings})\n",
    "\n",
    "# Sort the catalog_predictions DataFrame by predicted ratings in descending order\n",
    "catalog_predictions = catalog_predictions.sort_values(by='predicted_rating', ascending=False)"
   ]
  },
  {
   "cell_type": "code",
   "execution_count": 30,
   "metadata": {},
   "outputs": [
    {
     "data": {
      "text/html": [
       "<div>\n",
       "<style scoped>\n",
       "    .dataframe tbody tr th:only-of-type {\n",
       "        vertical-align: middle;\n",
       "    }\n",
       "\n",
       "    .dataframe tbody tr th {\n",
       "        vertical-align: top;\n",
       "    }\n",
       "\n",
       "    .dataframe thead th {\n",
       "        text-align: right;\n",
       "    }\n",
       "</style>\n",
       "<table border=\"1\" class=\"dataframe\">\n",
       "  <thead>\n",
       "    <tr style=\"text-align: right;\">\n",
       "      <th></th>\n",
       "      <th>itemId</th>\n",
       "      <th>predicted_rating</th>\n",
       "    </tr>\n",
       "  </thead>\n",
       "  <tbody>\n",
       "    <tr>\n",
       "      <th>6269</th>\n",
       "      <td>615988593</td>\n",
       "      <td>4.990463</td>\n",
       "    </tr>\n",
       "    <tr>\n",
       "      <th>10809</th>\n",
       "      <td>615988593</td>\n",
       "      <td>4.990463</td>\n",
       "    </tr>\n",
       "    <tr>\n",
       "      <th>6764</th>\n",
       "      <td>119244473</td>\n",
       "      <td>4.990463</td>\n",
       "    </tr>\n",
       "    <tr>\n",
       "      <th>3778</th>\n",
       "      <td>615988593</td>\n",
       "      <td>4.990463</td>\n",
       "    </tr>\n",
       "    <tr>\n",
       "      <th>5300</th>\n",
       "      <td>119244473</td>\n",
       "      <td>4.990463</td>\n",
       "    </tr>\n",
       "    <tr>\n",
       "      <th>...</th>\n",
       "      <td>...</td>\n",
       "      <td>...</td>\n",
       "    </tr>\n",
       "    <tr>\n",
       "      <th>387</th>\n",
       "      <td>108468276</td>\n",
       "      <td>2.331816</td>\n",
       "    </tr>\n",
       "    <tr>\n",
       "      <th>1763</th>\n",
       "      <td>340685481</td>\n",
       "      <td>2.331816</td>\n",
       "    </tr>\n",
       "    <tr>\n",
       "      <th>1372</th>\n",
       "      <td>173653315</td>\n",
       "      <td>2.331816</td>\n",
       "    </tr>\n",
       "    <tr>\n",
       "      <th>2898</th>\n",
       "      <td>452758788</td>\n",
       "      <td>2.331816</td>\n",
       "    </tr>\n",
       "    <tr>\n",
       "      <th>995</th>\n",
       "      <td>144598540</td>\n",
       "      <td>2.331816</td>\n",
       "    </tr>\n",
       "  </tbody>\n",
       "</table>\n",
       "<p>10940 rows × 2 columns</p>\n",
       "</div>"
      ],
      "text/plain": [
       "          itemId  predicted_rating\n",
       "6269   615988593          4.990463\n",
       "10809  615988593          4.990463\n",
       "6764   119244473          4.990463\n",
       "3778   615988593          4.990463\n",
       "5300   119244473          4.990463\n",
       "...          ...               ...\n",
       "387    108468276          2.331816\n",
       "1763   340685481          2.331816\n",
       "1372   173653315          2.331816\n",
       "2898   452758788          2.331816\n",
       "995    144598540          2.331816\n",
       "\n",
       "[10940 rows x 2 columns]"
      ]
     },
     "execution_count": 30,
     "metadata": {},
     "output_type": "execute_result"
    }
   ],
   "source": [
    "catalog_predictions"
   ]
  },
  {
   "cell_type": "markdown",
   "metadata": {},
   "source": [
    "Next, we merge the catalog_predictions table (which includes predicted ratings) with the metadata table on the productId into the same dataframe."
   ]
  },
  {
   "cell_type": "code",
   "execution_count": 31,
   "metadata": {},
   "outputs": [
    {
     "data": {
      "text/html": [
       "<div>\n",
       "<style scoped>\n",
       "    .dataframe tbody tr th:only-of-type {\n",
       "        vertical-align: middle;\n",
       "    }\n",
       "\n",
       "    .dataframe tbody tr th {\n",
       "        vertical-align: top;\n",
       "    }\n",
       "\n",
       "    .dataframe thead th {\n",
       "        text-align: right;\n",
       "    }\n",
       "</style>\n",
       "<table border=\"1\" class=\"dataframe\">\n",
       "  <thead>\n",
       "    <tr style=\"text-align: right;\">\n",
       "      <th></th>\n",
       "      <th>itemId</th>\n",
       "      <th>predicted_rating</th>\n",
       "      <th>category</th>\n",
       "      <th>name</th>\n",
       "      <th>brandName</th>\n",
       "      <th>url</th>\n",
       "      <th>price</th>\n",
       "      <th>averageRating</th>\n",
       "      <th>totalReviews</th>\n",
       "      <th>retrievedDate</th>\n",
       "    </tr>\n",
       "  </thead>\n",
       "  <tbody>\n",
       "    <tr>\n",
       "      <th>0</th>\n",
       "      <td>615988593</td>\n",
       "      <td>4.990463</td>\n",
       "      <td>beli-harddisk-eksternal</td>\n",
       "      <td>ASUS ROG ZEPHYRUS G GA502DU-R76601T - RYZEN 7 ...</td>\n",
       "      <td>Asus</td>\n",
       "      <td>https://www.lazada.co.id/products/asus-rog-zep...</td>\n",
       "      <td>19495000</td>\n",
       "      <td>5</td>\n",
       "      <td>1</td>\n",
       "      <td>2019-10-02</td>\n",
       "    </tr>\n",
       "    <tr>\n",
       "      <th>1</th>\n",
       "      <td>615988593</td>\n",
       "      <td>4.990463</td>\n",
       "      <td>beli-laptop</td>\n",
       "      <td>ASUS ROG ZEPHYRUS G GA502DU-R76601T - RYZEN 7 ...</td>\n",
       "      <td>Asus</td>\n",
       "      <td>https://www.lazada.co.id/products/asus-rog-zep...</td>\n",
       "      <td>19495000</td>\n",
       "      <td>5</td>\n",
       "      <td>1</td>\n",
       "      <td>2019-10-02</td>\n",
       "    </tr>\n",
       "    <tr>\n",
       "      <th>2</th>\n",
       "      <td>615988593</td>\n",
       "      <td>4.990463</td>\n",
       "      <td>beli-smart-tv</td>\n",
       "      <td>ASUS ROG ZEPHYRUS G GA502DU-R76601T - RYZEN 7 ...</td>\n",
       "      <td>Asus</td>\n",
       "      <td>https://www.lazada.co.id/products/asus-rog-zep...</td>\n",
       "      <td>19495000</td>\n",
       "      <td>5</td>\n",
       "      <td>1</td>\n",
       "      <td>2019-10-02</td>\n",
       "    </tr>\n",
       "    <tr>\n",
       "      <th>3</th>\n",
       "      <td>615988593</td>\n",
       "      <td>4.990463</td>\n",
       "      <td>jual-flash-drives</td>\n",
       "      <td>ASUS ROG ZEPHYRUS G GA502DU-R76601T - RYZEN 7 ...</td>\n",
       "      <td>Asus</td>\n",
       "      <td>https://www.lazada.co.id/products/asus-rog-zep...</td>\n",
       "      <td>19495000</td>\n",
       "      <td>5</td>\n",
       "      <td>1</td>\n",
       "      <td>2019-10-02</td>\n",
       "    </tr>\n",
       "    <tr>\n",
       "      <th>4</th>\n",
       "      <td>615988593</td>\n",
       "      <td>4.990463</td>\n",
       "      <td>shop-televisi-digital</td>\n",
       "      <td>ASUS ROG ZEPHYRUS G GA502DU-R76601T - RYZEN 7 ...</td>\n",
       "      <td>Asus</td>\n",
       "      <td>https://www.lazada.co.id/products/asus-rog-zep...</td>\n",
       "      <td>19495000</td>\n",
       "      <td>5</td>\n",
       "      <td>1</td>\n",
       "      <td>2019-10-02</td>\n",
       "    </tr>\n",
       "    <tr>\n",
       "      <th>...</th>\n",
       "      <td>...</td>\n",
       "      <td>...</td>\n",
       "      <td>...</td>\n",
       "      <td>...</td>\n",
       "      <td>...</td>\n",
       "      <td>...</td>\n",
       "      <td>...</td>\n",
       "      <td>...</td>\n",
       "      <td>...</td>\n",
       "      <td>...</td>\n",
       "    </tr>\n",
       "    <tr>\n",
       "      <th>35605</th>\n",
       "      <td>108468276</td>\n",
       "      <td>2.331816</td>\n",
       "      <td>jual-flash-drives</td>\n",
       "      <td>Flashdisk Toshiba Hayabusa Kapasitas 16GB + Ga...</td>\n",
       "      <td>Toshiba</td>\n",
       "      <td>https://www.lazada.co.id/products/flashdisk-to...</td>\n",
       "      <td>79000</td>\n",
       "      <td>1</td>\n",
       "      <td>1</td>\n",
       "      <td>2019-10-02</td>\n",
       "    </tr>\n",
       "    <tr>\n",
       "      <th>35606</th>\n",
       "      <td>627854700</td>\n",
       "      <td>2.391741</td>\n",
       "      <td>beli-harddisk-eksternal</td>\n",
       "      <td>FlashDisk HP 32GB V250W Free Kabel OTG + Lampu...</td>\n",
       "      <td>Flashdisk</td>\n",
       "      <td>https://www.lazada.co.id/products/flashdisk-hp...</td>\n",
       "      <td>34900</td>\n",
       "      <td>1</td>\n",
       "      <td>1</td>\n",
       "      <td>2019-10-02</td>\n",
       "    </tr>\n",
       "    <tr>\n",
       "      <th>35607</th>\n",
       "      <td>627854700</td>\n",
       "      <td>2.391741</td>\n",
       "      <td>jual-flash-drives</td>\n",
       "      <td>FlashDisk HP 32GB V250W Free Kabel OTG + Lampu...</td>\n",
       "      <td>Flashdisk</td>\n",
       "      <td>https://www.lazada.co.id/products/flashdisk-hp...</td>\n",
       "      <td>34900</td>\n",
       "      <td>1</td>\n",
       "      <td>1</td>\n",
       "      <td>2019-10-02</td>\n",
       "    </tr>\n",
       "    <tr>\n",
       "      <th>35608</th>\n",
       "      <td>627854700</td>\n",
       "      <td>2.351146</td>\n",
       "      <td>beli-harddisk-eksternal</td>\n",
       "      <td>FlashDisk HP 32GB V250W Free Kabel OTG + Lampu...</td>\n",
       "      <td>Flashdisk</td>\n",
       "      <td>https://www.lazada.co.id/products/flashdisk-hp...</td>\n",
       "      <td>34900</td>\n",
       "      <td>1</td>\n",
       "      <td>1</td>\n",
       "      <td>2019-10-02</td>\n",
       "    </tr>\n",
       "    <tr>\n",
       "      <th>35609</th>\n",
       "      <td>627854700</td>\n",
       "      <td>2.351146</td>\n",
       "      <td>jual-flash-drives</td>\n",
       "      <td>FlashDisk HP 32GB V250W Free Kabel OTG + Lampu...</td>\n",
       "      <td>Flashdisk</td>\n",
       "      <td>https://www.lazada.co.id/products/flashdisk-hp...</td>\n",
       "      <td>34900</td>\n",
       "      <td>1</td>\n",
       "      <td>1</td>\n",
       "      <td>2019-10-02</td>\n",
       "    </tr>\n",
       "  </tbody>\n",
       "</table>\n",
       "<p>35610 rows × 10 columns</p>\n",
       "</div>"
      ],
      "text/plain": [
       "          itemId  predicted_rating                 category  \\\n",
       "0      615988593          4.990463  beli-harddisk-eksternal   \n",
       "1      615988593          4.990463              beli-laptop   \n",
       "2      615988593          4.990463            beli-smart-tv   \n",
       "3      615988593          4.990463        jual-flash-drives   \n",
       "4      615988593          4.990463    shop-televisi-digital   \n",
       "...          ...               ...                      ...   \n",
       "35605  108468276          2.331816        jual-flash-drives   \n",
       "35606  627854700          2.391741  beli-harddisk-eksternal   \n",
       "35607  627854700          2.391741        jual-flash-drives   \n",
       "35608  627854700          2.351146  beli-harddisk-eksternal   \n",
       "35609  627854700          2.351146        jual-flash-drives   \n",
       "\n",
       "                                                    name  brandName  \\\n",
       "0      ASUS ROG ZEPHYRUS G GA502DU-R76601T - RYZEN 7 ...       Asus   \n",
       "1      ASUS ROG ZEPHYRUS G GA502DU-R76601T - RYZEN 7 ...       Asus   \n",
       "2      ASUS ROG ZEPHYRUS G GA502DU-R76601T - RYZEN 7 ...       Asus   \n",
       "3      ASUS ROG ZEPHYRUS G GA502DU-R76601T - RYZEN 7 ...       Asus   \n",
       "4      ASUS ROG ZEPHYRUS G GA502DU-R76601T - RYZEN 7 ...       Asus   \n",
       "...                                                  ...        ...   \n",
       "35605  Flashdisk Toshiba Hayabusa Kapasitas 16GB + Ga...    Toshiba   \n",
       "35606  FlashDisk HP 32GB V250W Free Kabel OTG + Lampu...  Flashdisk   \n",
       "35607  FlashDisk HP 32GB V250W Free Kabel OTG + Lampu...  Flashdisk   \n",
       "35608  FlashDisk HP 32GB V250W Free Kabel OTG + Lampu...  Flashdisk   \n",
       "35609  FlashDisk HP 32GB V250W Free Kabel OTG + Lampu...  Flashdisk   \n",
       "\n",
       "                                                     url     price  \\\n",
       "0      https://www.lazada.co.id/products/asus-rog-zep...  19495000   \n",
       "1      https://www.lazada.co.id/products/asus-rog-zep...  19495000   \n",
       "2      https://www.lazada.co.id/products/asus-rog-zep...  19495000   \n",
       "3      https://www.lazada.co.id/products/asus-rog-zep...  19495000   \n",
       "4      https://www.lazada.co.id/products/asus-rog-zep...  19495000   \n",
       "...                                                  ...       ...   \n",
       "35605  https://www.lazada.co.id/products/flashdisk-to...     79000   \n",
       "35606  https://www.lazada.co.id/products/flashdisk-hp...     34900   \n",
       "35607  https://www.lazada.co.id/products/flashdisk-hp...     34900   \n",
       "35608  https://www.lazada.co.id/products/flashdisk-hp...     34900   \n",
       "35609  https://www.lazada.co.id/products/flashdisk-hp...     34900   \n",
       "\n",
       "       averageRating  totalReviews retrievedDate  \n",
       "0                  5             1    2019-10-02  \n",
       "1                  5             1    2019-10-02  \n",
       "2                  5             1    2019-10-02  \n",
       "3                  5             1    2019-10-02  \n",
       "4                  5             1    2019-10-02  \n",
       "...              ...           ...           ...  \n",
       "35605              1             1    2019-10-02  \n",
       "35606              1             1    2019-10-02  \n",
       "35607              1             1    2019-10-02  \n",
       "35608              1             1    2019-10-02  \n",
       "35609              1             1    2019-10-02  \n",
       "\n",
       "[35610 rows x 10 columns]"
      ]
     },
     "execution_count": 31,
     "metadata": {},
     "output_type": "execute_result"
    }
   ],
   "source": [
    "# Merge catalog_predictions with metadata on 'productId'\n",
    "merged_data = pd.merge(catalog_predictions, metadata, on='itemId', how='inner')\n",
    "merged_data"
   ]
  },
  {
   "cell_type": "markdown",
   "metadata": {},
   "source": [
    "Then we create a modified get_recommendations function called get_recommendations_hybrid that calculates an index score through a weighted sum approach (0.7 for content-based, 0.3 for LightGBM) that combines both cosine similarity score and predicted ratings of the product of a specified name, and finally, sort the results based on this index score to return as a value."
   ]
  },
  {
   "cell_type": "code",
   "execution_count": 32,
   "metadata": {},
   "outputs": [],
   "source": [
    " def get_recommendations_hybrid(name, cosine_sim=cosine_sim, catalog_predictions=catalog_predictions):\n",
    "    lgb_weight = 0.1\n",
    "    cosine_weight = 0.9\n",
    "    # Get the index of the product that matches the title\n",
    "    idx = indices[name]\n",
    "    if isinstance(idx, pd.Series):\n",
    "        # Handle multiple products with the same name by selecting the first one\n",
    "        idx = idx.iloc[0]\n",
    "\n",
    "    # Get the pairwise similarity scores of all products with that product\n",
    "    sim_scores = list(enumerate(cosine_sim[idx]))\n",
    "\n",
    "    # Sort the products based on the similarity scores\n",
    "    sim_scores = sorted(sim_scores, key=lambda x: x[1], reverse=True)\n",
    "\n",
    "    # Get the scores of the 10 most similar products\n",
    "    sim_scores = sim_scores[1:11]\n",
    "\n",
    "    # Get the product indices\n",
    "    product_indices = [i[0] for i in sim_scores]\n",
    "    \n",
    "    # Initialize empty list to store combined weightage values\n",
    "    combined_weightage = []\n",
    "\n",
    "    # Calculate the combined weightage for each product\n",
    "    for i in range(len(product_indices)):\n",
    "        combined_score = (lgb_weight * predicted_ratings[i]) + (cosine_weight * sim_scores[i][1])\n",
    "        combined_weightage.append(combined_score)\n",
    "        \n",
    "    # Zip the combined weightage values with their corresponding product indices\n",
    "    combined_zip = list(zip(combined_weightage, product_indices))\n",
    "\n",
    "    # Sort the zip list based on combined weightage in descending order\n",
    "    combined_zip.sort(reverse=True)\n",
    "\n",
    "    # Unzip the sorted list to separate combined weightage and product indices\n",
    "    sorted_combined_weightage, sorted_product_indices = zip(*combined_zip)\n",
    "\n",
    "    # Return the top 10 most similar movies\n",
    "    return metadata['name'].iloc[product_indices]"
   ]
  },
  {
   "cell_type": "code",
   "execution_count": 92,
   "metadata": {},
   "outputs": [
    {
     "data": {
      "text/plain": [
       "5075     Refurbished Lenovo Thinkpad L430 - 4GB - 320GB...\n",
       "6333     Refurbished Lenovo Thinkpad L430 - 4GB - 320GB...\n",
       "9388     Refurbished Lenovo Thinkpad L430 - 4GB - 320GB...\n",
       "10864    Refurbished Lenovo Thinkpad L430 - 4GB - 320GB...\n",
       "4008     Refurbished Lenovo Thinkpad Yoga 11e - 4GB - 1...\n",
       "5073     Refurbished Lenovo Thinkpad Yoga 11e - 4GB - 1...\n",
       "6331     Refurbished Lenovo Thinkpad Yoga 11e - 4GB - 1...\n",
       "9386     Refurbished Lenovo Thinkpad Yoga 11e - 4GB - 1...\n",
       "10862    Refurbished Lenovo Thinkpad Yoga 11e - 4GB - 1...\n",
       "4059     Promo Lenovo Thinkpad T420S - Laptop - Noteboo...\n",
       "Name: name, dtype: object"
      ]
     },
     "execution_count": 92,
     "metadata": {},
     "output_type": "execute_result"
    }
   ],
   "source": [
    "get_recommendations_hybrid('Refurbished Lenovo Thinkpad L430 - 4GB - 320GB - 14 inch - Intel Core i5 2nd Gen')"
   ]
  },
  {
   "cell_type": "markdown",
   "metadata": {},
   "source": [
    "Like I mentioned earlier in this notebook, since people using e-commerce systems search for their desired by keywords that make up a part of a product's name only, we need a function that is able to take in a string input that can be a part of the full product name to get recommendations. We improved upon our get_recommendations_partial to obtain non-duplicating results that disregards the order of the keywords being passed into the function as parameters.\n",
    "\n",
    "One approach to achieve this is to use Natural Language Processing (NLP) techniques to extract meaningful keywords from the input name and then match these keywords with the product names. We can use libraries like spaCy for this purpose."
   ]
  },
  {
   "cell_type": "code",
   "execution_count": 36,
   "metadata": {},
   "outputs": [],
   "source": [
    "import spacy\n",
    "\n",
    "# Load the spaCy model\n",
    "nlp = spacy.load(\"en_core_web_sm\")\n",
    "\n",
    "def extract_keywords(text):\n",
    "    # Tokenize the input text using spaCy\n",
    "    doc = nlp(text)\n",
    "    \n",
    "    # Extract keywords (lemmatized tokens)\n",
    "    keywords = [token.lemma_ for token in doc if not token.is_stop and token.is_alpha]\n",
    "    \n",
    "    return keywords"
   ]
  },
  {
   "cell_type": "markdown",
   "metadata": {},
   "source": [
    "To remove duplicates from the recommended_products list, you can convert it into a set, and then back into a list."
   ]
  },
  {
   "cell_type": "code",
   "execution_count": 37,
   "metadata": {},
   "outputs": [],
   "source": [
    "import re\n",
    "\n",
    "def get_recommendations_hybrid_partial(name, cosine_sim=cosine_sim, catalog_predictions=catalog_predictions):\n",
    "    # Extract keywords from the input name\n",
    "    input_keywords = extract_keywords(name)\n",
    "    \n",
    "    if not input_keywords:\n",
    "        return \"No matching products found.\"\n",
    "\n",
    "    combined_results = set()\n",
    "\n",
    "    for _, product_row in metadata.iterrows():\n",
    "        product_name = product_row['name']\n",
    "        \n",
    "        # Extract keywords from the product name\n",
    "        product_keywords = extract_keywords(product_name)\n",
    "        \n",
    "        if any(word in product_keywords for word in input_keywords):\n",
    "            # Use the hybrid recommendation approach for the matched product\n",
    "            recommended = get_recommendations_hybrid(product_name, catalog_predictions=catalog_predictions, cosine_sim=cosine_sim)[:10]\n",
    "            \n",
    "            # Check if the product name contains all input keywords using regular expressions\n",
    "            if all(re.search(r'\\b{}\\b'.format(word), product_name, re.IGNORECASE) for word in input_keywords):\n",
    "                combined_results.update(recommended)\n",
    "\n",
    "    return list(combined_results)[:10]\n"
   ]
  },
  {
   "cell_type": "code",
   "execution_count": 94,
   "metadata": {},
   "outputs": [
    {
     "data": {
      "text/plain": [
       "['Sandisk USB 3.0 FD Flash Disk Drive FlashDisk Cruzer Glide 32GB 32 GB',\n",
       " 'SANDISK IXPAND MINI FLASH DRIVE LIGHTNING USB 3.0 OTG - 16GB (FLASHDISK USB , IPHONE & IPAD)',\n",
       " 'SanDisk Flashdisk Cruzer Blade CZ50 - 8GB ',\n",
       " 'SANDISK IXPAND MINI FLASH DRIVE LIGHTNING USB 3.0 OTG - 64GB (FLASHDISK USB , IPHONE & IPAD)',\n",
       " 'Sandisk USB 3.0 Flash Disk FlashDisk Cruzer Glide Flash Drive 16GB 3.0',\n",
       " 'Sandisk Flashdisk Ultra Flair USB 3.0 CZ73 - 32GB',\n",
       " 'SanDisk Cruzer Blade 8GB CZ50 Flashdisk',\n",
       " 'FLASHDISK SANDISK 8GB CRUZER BLADE CZ50',\n",
       " 'FLASHDISK SANDISK 16 GB 32 GB 64 GB PLUS OTG FD SANDISK 16GB 32GB 64GB MULTI SLOT DUAL USB 3.0 HIGH SPEED FLASH DISK SUPPORT ANDROID OTG FLASH DRIVE',\n",
       " 'Flashdisk SanDisk Cruzer Spark CZ61 USB [32 GB] #Garansi Resmi#']"
      ]
     },
     "execution_count": 94,
     "metadata": {},
     "output_type": "execute_result"
    }
   ],
   "source": [
    "get_recommendations_hybrid_partial('sandisk flash')"
   ]
  },
  {
   "cell_type": "markdown",
   "metadata": {},
   "source": [
    "And with that, our hybrid algorithm for is complete."
   ]
  },
  {
   "cell_type": "markdown",
   "metadata": {},
   "source": [
    "# Spelling Check and Correction\n",
    "In an attempt to maximize the usability and flexibility of our recommender system to fit realistic user behavior, people using e-commerce systems frequently search for their desired products incorrectly with spelling errors either by mistake or by ignorance, hence we need an input function that is able to account for these user mistakes, and attempt correction on their input before processing it through our recommender system.\n",
    "\n",
    "To do this, we can use libraries like pyspellchecker in Python to perform spelling correction. This library provides functions to check and correct spelling errors in text."
   ]
  },
  {
   "cell_type": "code",
   "execution_count": 39,
   "metadata": {},
   "outputs": [],
   "source": [
    "from spellchecker import SpellChecker"
   ]
  },
  {
   "cell_type": "markdown",
   "metadata": {},
   "source": [
    "There is no point correcting search inputs into words that do not reflect our product catalogue, ones that will not return any result, so instead of using SpellChecker's internal dictionary, we will create a custom library of words consisting of our product features for our SpellChecker instance in order to minimize false correction errors."
   ]
  },
  {
   "cell_type": "code",
   "execution_count": null,
   "metadata": {},
   "outputs": [],
   "source": [
    "# Create a list of product-related words\n",
    "product_words = tfidf.get_feature_names_out()\n",
    "\n",
    "# Initialize a SpellChecker instance\n",
    "spell = SpellChecker(language=None)\n",
    "\n",
    "# Set the word bank of the SpellChecker to the custom dictionary\n",
    "spell.word_frequency.load_words(product_words)"
   ]
  },
  {
   "cell_type": "markdown",
   "metadata": {},
   "source": [
    "Next we tested the accuracy and effectiveness of our SpellChecker instance."
   ]
  },
  {
   "cell_type": "code",
   "execution_count": 40,
   "metadata": {},
   "outputs": [
    {
     "name": "stdout",
     "output_type": "stream",
     "text": [
      "sandisk\n",
      "lenovo\n",
      "philips\n",
      "samsung\n",
      "chip\n"
     ]
    }
   ],
   "source": [
    "# Use the SpellChecker to correct text\n",
    "corrected_text = spell.correction(\"sandick\")\n",
    "\n",
    "print(corrected_text)  # This will print \"sandisk\"\n",
    "\n",
    "corrected_text = spell.correction(\"lovovo\")\n",
    "\n",
    "print(corrected_text)  # This will print \"lenovo\"\n",
    "\n",
    "corrected_text = spell.correction(\"pilips\")\n",
    "\n",
    "print(corrected_text)  # This will print \"philip\"\n",
    "\n",
    "corrected_text = spell.correction(\"samsang\")\n",
    "\n",
    "print(corrected_text)  # This will print \"samsung\"\n",
    "\n",
    "corrected_text = spell.correction(\"cip\")\n",
    "\n",
    "print(corrected_text)  # This will print \"samsung\""
   ]
  },
  {
   "cell_type": "markdown",
   "metadata": {},
   "source": [
    "Users may input apostrophes into their search which may distort our search results, to account for this possibility, we first have to remove all possible text patterns with apostrophe (-'s, -s', -'d, -n't, -'re, -'ll) and revert them back to their basic form before being processed by our recommender system."
   ]
  },
  {
   "cell_type": "code",
   "execution_count": 41,
   "metadata": {},
   "outputs": [
    {
     "name": "stdout",
     "output_type": "stream",
     "text": [
      "word\n",
      "word\n",
      "word\n",
      "word\n",
      "word\n",
      "word\n"
     ]
    }
   ],
   "source": [
    "def remove_special_phrases(input_string):\n",
    "    phrases_to_remove = [\"'s\", \"n't\", \"s'\", \"'d\", \"'ll\", \"'re\"]\n",
    "    for phrase in phrases_to_remove:\n",
    "        input_string = input_string.replace(phrase, \"\")\n",
    "    return input_string\n",
    "\n",
    "apostrophe_text1 = remove_special_phrases(\"word's\")\n",
    "print(apostrophe_text1)\n",
    "\n",
    "apostrophe_text2 = remove_special_phrases(\"word'd\")\n",
    "print(apostrophe_text2)\n",
    "\n",
    "apostrophe_text3 = remove_special_phrases(\"words'\")\n",
    "print(apostrophe_text3)\n",
    "\n",
    "apostrophe_text4 = remove_special_phrases(\"word'll\")\n",
    "print(apostrophe_text4)\n",
    "\n",
    "apostrophe_text5 = remove_special_phrases(\"wordn't\")\n",
    "print(apostrophe_text5)\n",
    "\n",
    "apostrophe_text5 = remove_special_phrases(\"word're\")\n",
    "print(apostrophe_text5)"
   ]
  },
  {
   "cell_type": "markdown",
   "metadata": {},
   "source": [
    "Next we remove other unwanted characters from the string such as hyphens and remaining apostrophes from the words. One of SpellChecker()'s limitation is that it can only correct one word at a time, so we are unable to pass in an entire phrase or sentence into SpellChecker() to be corrected. We created a function to split our phrases and strings into individual words, to pass into SpellChecker for correction, then join back the returned words into a complete string."
   ]
  },
  {
   "cell_type": "code",
   "execution_count": 64,
   "metadata": {},
   "outputs": [],
   "source": [
    "def correct_spelling_in_string(input_string, spell):\n",
    "    # Split the input string into words\n",
    "    words = input_string.split()\n",
    "\n",
    "    # Initialize an empty list to store corrected words\n",
    "    corrected_words = []\n",
    "\n",
    "    for word in words:\n",
    "        # Remove unwanted characters like apostrophes and hyphens\n",
    "        word = remove_special_phrases(word)\n",
    "        \n",
    "        word = ''.join(filter(str.isalnum, word))\n",
    "        # Correct the spelling of the word\n",
    "        corrected_word = spell.correction(word)\n",
    "        # Append the corrected word to the list\n",
    "        corrected_words.append(corrected_word)\n",
    "\n",
    "    # Join the corrected words into a string\n",
    "    corrected_string = ' '.join(corrected_words)\n",
    "\n",
    "    return corrected_string\n"
   ]
  },
  {
   "cell_type": "code",
   "execution_count": 73,
   "metadata": {},
   "outputs": [
    {
     "name": "stdout",
     "output_type": "stream",
     "text": [
      "samsung laptop lenovo 64gb\n",
      "asus gaming laptop\n",
      "sandisk 64gb\n",
      "seagate external hard disk\n"
     ]
    }
   ],
   "source": [
    "# Example usage:\n",
    "input_phrase = \"samsang's leptop lavovo 64gb\"\n",
    "corrected_text = correct_spelling_in_string(input_phrase, spell)\n",
    "print(corrected_text)\n",
    "\n",
    "input_phrase = \"asuz geming laptip\"\n",
    "corrected_text = correct_spelling_in_string(input_phrase, spell)\n",
    "print(corrected_text)\n",
    "\n",
    "input_phrase = \"sandiak 64gb\"\n",
    "corrected_text = correct_spelling_in_string(input_phrase, spell)\n",
    "print(corrected_text)\n",
    "\n",
    "input_phrase = \"seagat extrnal had disskk\"\n",
    "corrected_text = correct_spelling_in_string(input_phrase, spell)\n",
    "print(corrected_text)"
   ]
  },
  {
   "cell_type": "markdown",
   "metadata": {},
   "source": [
    "An overall product search input function is created that takes in a string input with possibly incorrectly spelled keywords arranged in a random order, calls the spelling correction function, and pass on the corrected string to our get recommendations function to return the recommended results to the user."
   ]
  },
  {
   "cell_type": "code",
   "execution_count": 43,
   "metadata": {},
   "outputs": [],
   "source": [
    "def product_search_input(input_string, spell):\n",
    "    query = correct_spelling_in_string(input_string, spell)\n",
    "    results = get_recommendations_hybrid_partial(query)\n",
    "    return results"
   ]
  },
  {
   "cell_type": "code",
   "execution_count": 45,
   "metadata": {},
   "outputs": [
    {
     "name": "stdout",
     "output_type": "stream",
     "text": [
      "lavovo\n",
      "lenovo\n",
      "geming\n",
      "gaming\n",
      "lenovo gaming\n"
     ]
    },
    {
     "data": {
      "text/plain": [
       "['Lenovo IdeaPad 130-15ST (AMD A4-9125 - 4GB DDR4 - 1TB - VGA AMD RADEON R3 - Laptop Gaming - DVDRW - 15.6\")',\n",
       " 'Lenovo Ideapad 330-14AST-38ID AMD A9-9425 (RAM 4GB DDR4 - 1TB HDD - Integrated - Windows 10 Home - 14\" HD - 2 year warranty - BLACK)',\n",
       " 'LAPTOP GAMING LENOVO IP 130-15AST - AMD A4-9125 - VGA AMD RADEON R3 - RAM 4GB - HDD 1TB - DVDRW - 15.6\"',\n",
       " 'Lenovo IP 130 15AST AMD A4 9125 2.3GHZ  RAM 4GB HDD 1TB VGA Radeon R3  15.6 Inch  DVDRW',\n",
       " 'Lenovo Legion Y530-15ICH-72ID Intel Core i7-8750H (8GB DDR4 + 16GB Intel Optane - 1TB HDD - GTX 1050 4GB - Windows 10 Home - 15,6\" FHD IPS - 2 Years Warranty) Gaming Laptop',\n",
       " 'Lenovo Legion Y530-15ICH-10ID Intel Core i5-8300H (8GB DDR4 + 16GB Intel Optane - 1TB HDD - GTX 1050Ti 4GB - Windows 10 Home - 15,6\" FHD IPS - 2 Years Warranty) Gaming Laptop',\n",
       " 'Lenovo Ideapad 330-14AST-39ID AMD A9-9425 (RAM 4GB DDR4 - 1TB HDD - Integrated - Windows 10 Home - 14\" HD - 2 year warranty - GRAY)',\n",
       " 'Lenovo Ideapad 130-15AST With 8GB DDR4 I AMD A4-9125 I 500GB HDD I AMD Radeon R3 I 15,6 HD LED I DVDRW I DOS',\n",
       " 'Lenovo L340-15API-1LID Grey ( AMD Ryzen 7 - 3700U - 16GB DDR4 - 2TB HDD - Integrated AMD Radeon Vega 10 - DVD-RW Multiburner - 15 Inch - 2 year warranty) Laptop Gaming',\n",
       " 'Lenovo Ideapad 330-15ICH-36ID BLACK (Intel Core i5-8300H - RAM 4GB DDR4+16GB Intel Optane - HDD 1TB - NVidia GTX1050 4GB - Windows 10 Home - 15.6\" Full HD - 2 Years Warranty) Laptop Gaming']"
      ]
     },
     "execution_count": 45,
     "metadata": {},
     "output_type": "execute_result"
    }
   ],
   "source": [
    "product_search_input(\"lavovo geming\", spell)"
   ]
  },
  {
   "cell_type": "markdown",
   "metadata": {},
   "source": [
    "# Graphical User Interface\n",
    "A simple GUI built using the built-in Tkinter library with a text entry field, a search button, and a text widget to display the results is created. \n",
    "\n",
    "When the \"Search\" button is clicked, it calls our product_search_input function with the user's input and displays the results in the text widget."
   ]
  },
  {
   "cell_type": "code",
   "execution_count": 95,
   "metadata": {},
   "outputs": [
    {
     "name": "stdout",
     "output_type": "stream",
     "text": [
      "lenovo gaming\n",
      "asus gaming laptop\n",
      "samsung tv\n"
     ]
    }
   ],
   "source": [
    "# Create the main window\n",
    "root = tk.Tk()\n",
    "root.title(\"Product Search\")\n",
    "\n",
    "# Create a label and an entry widget\n",
    "label = tk.Label(root, text=\"Enter your product search:\")\n",
    "label.pack()\n",
    "\n",
    "entry = tk.Entry(root, width=40)\n",
    "entry.pack()\n",
    "\n",
    "# Create a text widget to display results with a larger height\n",
    "results_text = Text(root, wrap=tk.WORD, height=25, width=120)\n",
    "results_text.pack()\n",
    "\n",
    "# Create a scrollbar for the text widget\n",
    "scrollbar = Scrollbar(root, command=results_text.yview)\n",
    "scrollbar.pack(side=tk.RIGHT, fill=tk.Y)\n",
    "results_text.config(yscrollcommand=scrollbar.set)\n",
    "\n",
    "# Function to handle button click\n",
    "def search_product():\n",
    "    input_string = entry.get()\n",
    "    if input_string:\n",
    "        results = product_search_input(input_string, spell)  # Call your function here\n",
    "        results_text.delete(1.0, tk.END)  # Clear previous results\n",
    "        if results:\n",
    "            for result in results:\n",
    "                results_text.insert(tk.END, result + \"\\n\")\n",
    "        else:\n",
    "            messagebox.showinfo(\"No Results\", \"No matching products found.\")\n",
    "    else:\n",
    "        messagebox.showinfo(\"Input Error\", \"Please enter a product search.\")\n",
    "\n",
    "# Create a search button\n",
    "search_button = tk.Button(root, text=\"Search\", command=search_product)\n",
    "search_button.pack()\n",
    "\n",
    "# Start the Tkinter main loop\n",
    "root.mainloop()"
   ]
  },
  {
   "cell_type": "markdown",
   "metadata": {},
   "source": [
    "Unfortunately, as there is an absence of actually relevant product data, evaluation methods such as Precision at K and Recall at K could not be performed. Without a comparable truth value in the dataset, Holdout Testing could not be performed as well, except solely for the LightGBM model. \n",
    "\n",
    "Despite that, by visual evaluation and informed judgment of the algorithm output in comparison with input string data, the relevance of the recommended items to the input string remains high. That concludes the creation, testing, and demonstration of our SciKit-Learn x LightGBM - Hybrid Recommender System"
   ]
  }
 ],
 "metadata": {
  "colab": {
   "name": "Practical 8 (Part II) - Content-based Filtering Recommender System.ipynb",
   "provenance": [],
   "toc_visible": true
  },
  "kernelspec": {
   "display_name": "Python 3 (ipykernel)",
   "language": "python",
   "name": "python3"
  },
  "language_info": {
   "codemirror_mode": {
    "name": "ipython",
    "version": 3
   },
   "file_extension": ".py",
   "mimetype": "text/x-python",
   "name": "python",
   "nbconvert_exporter": "python",
   "pygments_lexer": "ipython3",
   "version": "3.10.9"
  }
 },
 "nbformat": 4,
 "nbformat_minor": 1
}
